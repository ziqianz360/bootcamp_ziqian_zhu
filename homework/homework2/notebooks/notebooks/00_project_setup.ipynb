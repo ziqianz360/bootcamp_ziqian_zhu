{
 "cells": [
  {
   "cell_type": "markdown",
   "id": "5b82f4af",
   "metadata": {},
   "source": [
    "Environment & Config Check"
   ]
  },
  {
   "cell_type": "markdown",
   "id": "1033b97e",
   "metadata": {},
   "source": [
    "from dotenv import load_dotenv\n",
    "import os\n",
    "\n",
    "# Load variables from .env\n",
    "load_dotenv()\n",
    "\n",
    "# Check if API_KEY exists\n",
    "api_key = os.getenv(\"API_KEY\")\n",
    "if api_key:\n",
    "    print(\"API_KEY loaded successfully.\")\n",
    "else:\n",
    "    print(\"API_KEY not found.\")\n"
   ]
  },
  {
   "cell_type": "markdown",
   "id": "a6d8db7f",
   "metadata": {},
   "source": [
    "import numpy as np\n",
    "\n",
    "# Simple array operation\n",
    "arr = np.array([1, 2, 3])\n",
    "print(\"Array:\", arr)\n",
    "print(\"Array + 5:\", arr + 5)\n",
    "print(\"Mean value:\", np.mean(arr))\n"
   ]
  }
 ],
 "metadata": {
  "language_info": {
   "name": "python"
  }
 },
 "nbformat": 4,
 "nbformat_minor": 5
}
